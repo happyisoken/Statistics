{
 "cells": [
  {
   "cell_type": "markdown",
   "id": "7ab45e80-1744-4e8a-9ac5-d9521fb0731f",
   "metadata": {},
   "source": [
    "### Eight Sampling Techniques for Statistical & Data Science Modelling"
   ]
  },
  {
   "cell_type": "markdown",
   "id": "bd7fa6f4-47a2-4e13-a17f-de8ab4f7c386",
   "metadata": {},
   "source": [
    "Sampling techniques used in dealing with predictive models.\n",
    "\n",
    "We deal with samples instead of population data because population data is very large and difficult to deal with.\n",
    "\n",
    "Population: collection od observations which we would like to make an inference\n",
    "\n",
    "Sampling: are nonoverlapping collections of elements from the population. It is a sub-set of population\n",
    "\n",
    "Smapling Error\n",
    ". the deviation between the estimate of an ideal sample and the true populatio.\n",
    ". the objective is to Minimize sample error\n",
    "\n",
    " Sampling Types\n",
    "- Probability samples: Each member of the population has a non-zero probabilty of being selected. It is done randomly. E.g. random, systematic and stratified sampling\n",
    "- Non Probability samples: Memebrs are selected from the population in a non random way. It is biased and opinion-based E.g. convenience, judgement, Quota and Snowball sampling.\n",
    "\n",
    "Sampling Techniques:\n",
    "\n",
    "Probability Samples \n",
    "- Random sampling: Each member has equal probability of getting selected.\n",
    "- Systematic sampling: Every Nth record is selected in the sample. N should be random and fixed interval should be there.\n",
    "- Stratified sampling: Identify suitable stratum in the data. Then use random sampling in each stratum\n",
    "- Cluster sampling \n",
    "    . Two stage process\n",
    "    . Select the clusters from the population\n",
    "    . Select elements from each cluster\n",
    "    . Used in Market research. Two stage process\n",
    "\n",
    "Non-Probability Samples\n",
    "- Convenience Sampling: A sample is selected because it is convenient to select. Used in initial studies that would involve less cost. E.g. Survey - Facebook polls or questions. \n",
    " \n",
    "- Judgement Sampling A sample is selected through judgements - no random experiments. The researcher is sure of the sample being representative of the population - Expect opinion\n",
    "\n",
    "- Quota Sampling: Identify the stratum and their proportion. Then use convenience or judgement sampling\n",
    "\n",
    "- Snowball Sampling: Used when the elements are hard to locate. Sample is rare to find. Initial elements selected in the sample refer for elements with similar traits."
   ]
  },
  {
   "cell_type": "code",
   "execution_count": null,
   "id": "1b8ad59d-3d44-44b9-a7c5-20e882a97714",
   "metadata": {},
   "outputs": [],
   "source": []
  }
 ],
 "metadata": {
  "kernelspec": {
   "display_name": "Python 3 (ipykernel)",
   "language": "python",
   "name": "python3"
  },
  "language_info": {
   "codemirror_mode": {
    "name": "ipython",
    "version": 3
   },
   "file_extension": ".py",
   "mimetype": "text/x-python",
   "name": "python",
   "nbconvert_exporter": "python",
   "pygments_lexer": "ipython3",
   "version": "3.9.7"
  }
 },
 "nbformat": 4,
 "nbformat_minor": 5
}
