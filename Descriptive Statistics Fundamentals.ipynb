{
 "cells": [
  {
   "cell_type": "markdown",
   "id": "bac26506-d9bf-40a7-be76-bbde6336ec06",
   "metadata": {},
   "source": [
    "# Statistics, AB Testing and Linear Regression"
   ]
  },
  {
   "cell_type": "markdown",
   "id": "5149961c-ea64-46e8-865c-58a05bb800b0",
   "metadata": {},
   "source": [
    "## Introduction to Statistics\n",
    "\n",
    "***Population vs sample***\n",
    "\n",
    "This first step of every statistical analysis we perform is determine whether the data is a Population or a sample.\n",
    "\n",
    "***Population***\n",
    "This is a collection of all items of interest to our study. \n",
    "It is usually denoted with 'N'. Numbers obtained when using population are called parameters.\n",
    " . They are hard to define and hard to observe in real life.\n",
    " . Hard to contact\n",
    "\n",
    "***Sample***\n",
    "This a subset of the population. It denoted with 'n'. It is an approximation of the population parameter. Numbers obtained when working with a sample are called statistics.\n",
    " . It is easier to observe and gather.\n",
    " . It is less time consuming\n",
    " . It is cheaper.\n",
    " . Easier to contact\n",
    " . They are key to accurate statistical insights.\n",
    "\n",
    "Samples have two defining characteristics; Radomness and Representativeness. A sample must be both Random and Representative for an isight to be precise.\n",
    "\n",
    "***Random Sample***: A randm sample is collected when each member of the sample is chosen from the population strictly by chance.\n",
    "\n",
    "***Representative Sample***: A reprensentative sample is a subset of the population that accurately reflects the members of the population."
   ]
  },
  {
   "cell_type": "markdown",
   "id": "8a044f5f-3d7d-4f87-85f3-5ac251dcff42",
   "metadata": {},
   "source": [
    "# Descriptive Statistics Fundamentals"
   ]
  },
  {
   "cell_type": "markdown",
   "id": "20dc9186-335a-45eb-8ef9-a28ab3bfd840",
   "metadata": {},
   "source": [
    "***Types of data and levels of measurement***\n",
    "\n",
    "Different types of variables require different types of statistical approaches. Ability to classify the data you are working with is key. Data can be classified in two main ways based on its type and its measurment levels.\n",
    "\n",
    "**Types of Data**: They are categorical and numerical\n",
    "\n",
    "**Categorical data**: These describe categories or groups. E.g car brands, Yes or No questions,\n",
    "\n",
    "**Numerical Data**: These represent numbers.It is further divided into two subsets; discrete and continuous.\n",
    "\n",
    "**Discrete data**: Can usually be counted in a finite manner. The value is an integer 0, 1, 2, 10, 1000, 1560, 2400 etc. Examples are: number of children we want to have, grades on SAT exam, grades at the university,number of objects, physical money etc\n",
    "\n",
    "**Continuous data**: They are infinite and impossible to count. It could take on an infinite amount of values like 12222.6794. Example, body weight, height, area, distance and time(on o'clock) "
   ]
  },
  {
   "cell_type": "markdown",
   "id": "d806e85b-b5ad-4662-aebb-dbad4c114564",
   "metadata": {},
   "source": [
    "**Levels of measurement**"
   ]
  },
  {
   "cell_type": "markdown",
   "id": "b00fb750-53f2-4d32-a428-14e5d800dec6",
   "metadata": {},
   "source": [
    "These can be split into two groups; qualitative and quantitative\n",
    "\n",
    "**Qualitative data**: Can be nominal or ordinal.\n",
    "\n",
    "***Nominal variables***: they are not numbers and cannot be ordered. E.g. the four seasons, car brands etc.\n",
    "\n",
    "***Ordinal data***: consists of groups and categories which follow a straight order. E.g. ratings which ranges from positive to negative\n",
    "\n",
    "**Quantitative data**: they are represented by number and are also splited into two groups; interval and ratio.\n",
    "\n",
    "***Ratio***: They have a true zero(0). E.g. number of objects, distance and time.\n",
    "\n",
    "***Interval***: They do not have a true zero(0). They are not so common. E.g. temperature,"
   ]
  },
  {
   "cell_type": "markdown",
   "id": "e684cbf0-8d99-4b75-8e78-edefce8717b4",
   "metadata": {},
   "source": [
    "**Categorical Variables. Visualization techniques**"
   ]
  },
  {
   "cell_type": "markdown",
   "id": "b45f503e-a1f0-4063-a82a-9eac596e7216",
   "metadata": {},
   "source": [
    "Visualizing data is the most intuitive way to interprete it.\n",
    "Representation of categorical variables:\n",
    " . Frequency distribution tables.\n",
    " . Bar charts.\n",
    " . Pie charts.\n",
    " . Pareto diagrams.\n",
    "\n",
    "The frequency distribution table has two columns; the category itself and the frequency. \n",
    "\n",
    "We can use the table to draw a bar chart. The vertical axis shows the number of units sold while each bar represents a different category indicated in the horizontal axis.\n",
    "\n",
    "Relative frequency is the percentage of the total frequency for each category.\n",
    "\n",
    "Pie charts are useful when we want to not only compare items to each other, but also see the share of the total. E.g. market share.\n",
    "\n",
    "**Pareto diagram** is a special type of bar chart where categories are shown in descending order of frequency. It is named after Wilfredo Pareto. It combines the strong sides of the bar and pie charts. The Pareto principle also known as the 80 - 20 rule which states that 80% of the effect comes from 20% of the causes. \n",
    "The diagram is designed to how how the subtotals change with each additional category and provide us with a better understanding of our data.\n",
    "\n",
    "A curve on the graph shows the cummulative frequency.\n",
    "The cummulative frequency is the sum of the relative frequencies."
   ]
  },
  {
   "cell_type": "markdown",
   "id": "bca0d03b-7397-4ac2-abf2-4f46d636da98",
   "metadata": {},
   "source": [
    "**Numerical Variables. Frequency distribution table**"
   ]
  },
  {
   "cell_type": "markdown",
   "id": "266ad64e-0ca2-4e02-b359-6372f199037a",
   "metadata": {},
   "source": [
    "When plotting data, it is best to first order it in a table - frequency distribution table. It makes sense to group the (numerical) data into intervals and then find the corresponding frequencies. The interval range is determined by the largest number minus the smallest number divided by the number of desired intervals. A number is included in an interval if that number is:\n",
    " i. Greater than the lower bound\n",
    " ii. Lower or Equal to the upper bound\n",
    "\n",
    "The relative frequency is the frequency of a given interval as part of the total. \n",
    "Relative frequency = Frequency/Total frequency."
   ]
  },
  {
   "cell_type": "markdown",
   "id": "37d8dd40-0aa5-44ed-a2e7-aeebea35c223",
   "metadata": {},
   "source": [
    "**The histogram**\n",
    "\n",
    "1. Get your datset\n",
    "2. Populate your frequency distribution table with interval start and end, Frequency, relative frequency etc.\n",
    "3. Then construct your instagram (X - Interval, Y - Frequency or the relative frequency in some cases). Relative frequency i made up of percentages.\n",
    "\n"
   ]
  },
  {
   "cell_type": "markdown",
   "id": "88bd1b50-edea-41dd-8326-ddfb4c826550",
   "metadata": {},
   "source": [
    "**Cross table and scatter plot**\n",
    "\n",
    "***Cross table***\n",
    "The most common way to represent categorical variables are the cross tables/contingency tables. Example is examining the relationship between stocks, bonds, real estate for different investors as an investment manager.\n",
    "\n",
    "All graphs are very easy to create and read, once you have identified the type of data you are dealing with.\n",
    "\n",
    "***Scatter Plot***\n",
    "This is used when representing two numerical variables.Each point gives information about a particular variable. It usually represent lots of observations.\n",
    "\n",
    "Outliers: are data points that go against the logic of the whole dataset."
   ]
  },
  {
   "cell_type": "markdown",
   "id": "e8821aff-94a2-4dff-a395-8ba6d348cef0",
   "metadata": {},
   "source": [
    "### Measurements of Central tendency and variability"
   ]
  },
  {
   "cell_type": "markdown",
   "id": "8fbe38a8-6568-4694-891f-a9ed57d71ac7",
   "metadata": {},
   "source": [
    "**Mean, median, mode**\n",
    "They are the 3 measures of central tendency\n",
    "\n",
    "***Mean***: also known as the simple average. We can find the mean by adding up all the components and then dividing by the number of components. It is the most common measure of central tendency. The mean is not enough to make definite conclusions. \n",
    "\n",
    "Downsides:\n",
    " . It is usually affected by outliers.\n",
    " \n",
    "***Median***: The middle number in an ordered dataset.\n",
    "Downsides:\n",
    "\n",
    "***Mode***: The value that occurs most often.\n",
    "\n",
    "The measures of central tendency are used together rather than independently. There is no best but using only one is definitely the worst!."
   ]
  },
  {
   "cell_type": "markdown",
   "id": "32116ca8-2fb0-4459-b8aa-917c4cee4d01",
   "metadata": {},
   "source": [
    "### Measures of Asymmetry"
   ]
  },
  {
   "cell_type": "markdown",
   "id": "a0b15a5c-e298-460b-97c6-2a8ee10fe2d5",
   "metadata": {},
   "source": [
    "**Skewness**"
   ]
  },
  {
   "cell_type": "markdown",
   "id": "c06386d8-b72a-44a1-8d3b-30cbda85227c",
   "metadata": {},
   "source": [
    " The most commonly used tool to measure Asymmetry is Skewness\n",
    "\n",
    "***Skewness***: It indicatse whether the obseervations of the dataset are concentrated on one side. \n",
    "\n",
    "***Positive or right skew***: The mean is greater than the median (mean > median) and the mode is the value with highest visual representation. It is dependent on what side the tail is leaning to. It means that the outliers are to the right.\n",
    "\n",
    "***Zero or no skew***: This has equal mean, median and mode (mean = median = mode). The frequency of occurence is completely symmetrical.\n",
    "\n",
    "***Negative or left skew***: The mean is less than the median (mean < median). The highest point is defined by the mode. Here, the outliers are to the left.\n",
    "\n",
    "***Skewness is important because***:\n",
    " \n",
    "1. It tells us a lot about where the data is situated\n",
    " \n",
    "2. It is the link between central tendency measures and probability theory which gives us a better understanding of the data we are working with."
   ]
  },
  {
   "cell_type": "markdown",
   "id": "e3abc724-82d1-4cfc-b399-17c5982b4cf7",
   "metadata": {},
   "source": [
    "### Measures of variability"
   ]
  },
  {
   "cell_type": "markdown",
   "id": "c4a7929d-3454-417b-9fc4-a88215aab685",
   "metadata": {},
   "source": [
    "**Variance**\n",
    "\n",
    "The sample mean is the average of the sample data points the population mean is the average of the poulation data points. \n",
    "\n",
    "Variance measures the dispersion of a set of data points around their mean value.\n",
    "\n",
    "Population variance is the sum of squared differences between the observed values and the population mean divided by the total number of observation. The closer a number to the mean, the lower the result we will obtain. The further away from the mean, the higher the result. \n",
    "\n",
    "Squaring the differences has two main purposes:\n",
    "\n",
    "i. we get a non-negative computation when we square the numbers. Dispersion is non-negative. Non-negative values dont cancel out.\n",
    "ii. it amplifies the effect of large differences.\n",
    "\n",
    "Sample variance is the sum of squared differences between the observed sample values and the sample mean divided by the number of sample observations minus one.\n",
    "\n",
    "To calculate the population variance:\n",
    "1. Get the population\n",
    "2. Calculate the mean \n",
    "3. Subtract the mean from each of the observation, square the results of observation - mean, add them up and then divide by the population size.\n",
    "\n",
    "To calculate the sample variance:\n",
    "1. Get the population\n",
    "2. Calculate the mean \n",
    "3. Subtract the mean from each of the observation, square the results of observation - mean, add them up and then divide by the population size minus 1.\n",
    "Sample variance formula is used when our set of observation is sample drawn from a bigger population.\n",
    "\n",
    "Why is the sample variance bigger than the population variance?\n",
    "i. we had all the data and we calculated the variance.\n",
    "ii. we had a sample, but did not know the population. Therefore, there is more uncertainty."
   ]
  },
  {
   "cell_type": "markdown",
   "id": "f4db50f1-50b0-43a9-bd34-324018d59c98",
   "metadata": {},
   "source": [
    "### Measures of Relationship between variables"
   ]
  },
  {
   "cell_type": "markdown",
   "id": "bc6f0f65-e92e-4d8e-9f3b-1cd193374bcc",
   "metadata": {},
   "source": [
    "***Covariance***\n",
    "\n",
    "Covariance measures correlated variables - relationship between variables. It may be positive, zero or negative. \n",
    "\n",
    "Covariance gives a sense of direction\n",
    "\n",
    "Greater than (>) 0. the two variables move together(positive sign)\n",
    "\n",
    "Less than (<) 0. the two variables move in opposite directions (negative sign)\n",
    "\n",
    "Equal to (=) 0. the two variables are independent (zero)"
   ]
  },
  {
   "cell_type": "markdown",
   "id": "e9727160-0763-4203-add3-16368c9c4895",
   "metadata": {},
   "source": [
    "***Correlation***\n",
    "\n",
    "Correlation measures the relatioship between variables. It also adjusts covariance, so that the relationship between the two variables becomes easy and intuitive to interpret.\n",
    "\n",
    "**Perfect Positive Correlation:** Correlation coeff. = 1. This means that the entire variability of one variable is explained by the other.\n",
    "\n",
    "**Correlation of 0:** this means that the variables are absolutely independent of each other i.e. no relationship\n",
    "\n",
    "**Negative Correlation:** Perfect negative correlation of -1. This means there is an imperfect negatve correlation: (-1, 0). \n",
    "\n",
    "Correlation between X and Y is same as Y and X.\n",
    "\n",
    "**Causality:**\n",
    "It is important to understand the direction of causal relationships. \n",
    "Correlation does not imply causation."
   ]
  },
  {
   "cell_type": "markdown",
   "id": "a4839d35-2dc6-4383-a3b8-745bbce69ea3",
   "metadata": {},
   "source": [
    "## Introduction to Inferential Statistics\n",
    "\n",
    "Inferential Statistics refers to methods that rely on probability theory and distributions in particular to predict population values based on sample data. "
   ]
  },
  {
   "cell_type": "markdown",
   "id": "5168824b-2cb6-4895-b94c-116dcfd6c69c",
   "metadata": {},
   "source": [
    "**What is a distribution?**\n",
    "\n",
    "Distribution = Probability Distribution.\n",
    "\n",
    "***Types***\n",
    "1. Normal distribution\n",
    "2. Binomial distribution\n",
    "3. Uniform distribution\n",
    "\n",
    "A distribution is a function that shows tha possible values for a variable and how often they occur. Example is rolling a die - we have equal chance of getting each of the six outcomes but the probability of getting a 7 or all other values is impossible. Here, probability = 0. \n",
    "\n",
    "***Discrete uniform distribution:*** all outcomes have equal chance of occuring.\n",
    "\n",
    "The Probability Distribution graph describes the likelihood of occurence of every event. \n",
    "\n",
    "A distribution is not a graph itself. The graph is just a visual representation."
   ]
  },
  {
   "cell_type": "markdown",
   "id": "258655c5-fff5-4860-b85e-4693c3df7017",
   "metadata": {},
   "source": [
    "***The Normal Distribution***\n",
    "\n",
    "Reasons to study the Normal and Student's T distributions.\n",
    "1. They approximate a wide variety of random variables.\n",
    "2. Distributions of sample mean with large enough sample sizes could be approximated to normal.\n",
    "3. All computable statistics are elegant.\n",
    "4. Decisions based on normal distribution insights have a good track record.\n",
    "\n",
    "***Normal distribution***\n",
    " . Statistically refered to as Gaussian Distribution.\n",
    " . Also called Bell curve as it is shaped like a bell. \n",
    " . It is symmetrical. \n",
    " . Its mean, mode and median are equal. \n",
    " . It has no skew. \n",
    " . It is perfectly centered around its mean.\n",
    " . The highest point is located at the mean because it coincides with the mode.\n",
    " . The spread of the graph is determined by the standard deviation.\n",
    "\n",
    "If the mean is smaller or bigger: A lower mean would result in the same shape of the distribution but on the left side of the plain. A bigger mean would move the graph to the right.  "
   ]
  },
  {
   "cell_type": "markdown",
   "id": "28394894-2ca1-4265-bb6a-0e62d51e0605",
   "metadata": {},
   "source": [
    "**The Standard Normal Distribution/Standardization**\n",
    "\n",
    "Standardization is the process of transforming a variable to one with the mean of zero and a standard deviation of one.\n",
    "\n",
    "When we standardize a normal distribution, the result is a standard normal distribution. The standardize variable is called the z-score and it is equal to the original variable minus its mean divided by its standard deviation."
   ]
  },
  {
   "cell_type": "markdown",
   "id": "a322f052-6a3c-4207-bf63-d82765051602",
   "metadata": {},
   "source": [
    "**Central Limit theorem (CLT)**\n",
    "\n",
    "No matter the distribution of the population, the sampling distribution of the mean will approximate a normal distribution.\n",
    "\n",
    "Why CLT?\n",
    "\n",
    "CLT allows us to perform tests, solve problems and make inferences using the normal distribution, even when the population is not normally distributed."
   ]
  },
  {
   "cell_type": "markdown",
   "id": "05245b2f-9af0-478a-b10a-7a3ef0f1679c",
   "metadata": {},
   "source": [
    "**Standard error**\n",
    "\n",
    "A standard error is the standard deviation of the distribution formed by the sample means.\n",
    "Standard error shows variabilty. It is the variabilty of the means of the different samples we extracted.\n",
    "\n",
    "Why it is important.\n",
    "\n",
    " . It is used in most statistical tests.\n",
    " . Because it shows how well you approximated the true mean \n",
    " . Standard error decreases when sample size increase. Bigger samples give a better approximation of the population."
   ]
  },
  {
   "cell_type": "markdown",
   "id": "463d15d0-41f2-4c14-bb66-caadf035902c",
   "metadata": {},
   "source": [
    "**Estimators and estimates**\n",
    "\n",
    "It is an approximation depending solely on sample information. A specific value is called an estimate.\n",
    "\n",
    "Types of estimates\n",
    "\n",
    "1. Point estimates: This is a single number.\n",
    "2. Confidence intervals estimates: It is an interval.\n",
    "\n",
    "The two are closely related. The point estimate is located exactly in the middle of the confidence interval. However, confidence intervals provide much more information and are preferred when making inferences.\n",
    "\n",
    "The sample mean is a point estimate of the population mean.\n",
    "\n",
    "Point intervals have two properties:\n",
    "1. Efficiency\n",
    "2. Bias\n",
    "\n",
    "Estimators are like judges. We are always looking for the most efficient, unbiased estimators. \n",
    "An unbiased estimator has an expected value = population parameter.\n",
    "The most efficient estimators are the ones with the least variability of the outcomes.The most efficient estimators is the unbiased estimator with the smallest variance.\n",
    "\n",
    "Difference between estimators and statistics:\n",
    "\n",
    "Statistics is the broader term while a point estimate is a type of statistic."
   ]
  },
  {
   "cell_type": "markdown",
   "id": "68096910-d4c8-40d7-92b6-3525fc6a4588",
   "metadata": {},
   "source": [
    "**Definition of confidence intervals**\n",
    "\n",
    "A confidence interval is the range which you want your population parameter to be. Its estimation is based on the data we have on our sample.\n",
    "This is the mean of your estimate plus and minus the variation in that estimate. This is the range of values you expect your estimate to fall between if you redo your test, within a certain level of confidence.\n",
    "\n",
    "A confidence interval is a much more representation of reality. However, there is still some uncertainty left which we measure in levels of confidence. You can never be 100% confident unless you through the entire population. \n",
    "\n",
    "Level of confidence is denoted by 1 - Alpha (confidence level of the interval). Where Alpha is a value between 0 and 1. Where you have a confidence level of 95%, Alpha is 5%, where it is 99%, Alpha is 1%. 95% CI means there is only 5% chance that the population parameter is outside the range."
   ]
  },
  {
   "cell_type": "markdown",
   "id": "de6457a1-c2f5-4bc4-8644-1a571eeac718",
   "metadata": {},
   "source": [
    "**Population variance known, z-score**\n",
    "\n",
    "Population variance (σ2) tells us how data points in a specific population are spread out.\n",
    "\n",
    "There can be two main situations when we calculate the confidence intervals for the population. They are\n",
    " - when the population variance is known\n",
    " - when the population variance is unknown\n",
    "\n",
    "Confidence interval with a known population variance.\n",
    "\n",
    "With a sample which is large enough, you can assume sample means. A commonly used term for the z is critical value. A narrower confidence interval translates to higher uncertainty."
   ]
  },
  {
   "cell_type": "markdown",
   "id": "7adf3b59-8b24-492f-b8e3-691cf12868b7",
   "metadata": {},
   "source": [
    "**Confidence Interval Clarifications**\n",
    "\n",
    " - There is the lower limit and the upper limit.\n",
    " - A 95% confidence interval would imply we are 95% confident the true population mean falls within this interval.\n",
    " - There is 2.5% chance that the mean is in the lower limit and 2.5% chance it is in the upper limit. Overall, there is 5% chance that the confidence interval does not contain the true population mean.\n",
    " - The lower limit is -Z while the upper limit is Z.\n",
    " - When a confidence is lower, the confidenc interval is smaller. Similarly, when it is higher, the confidence interval is larger.\n",
    " - 95% is the accepted norm, as we dont compromise with accuracy too much, but still get a relatively narrow interval."
   ]
  },
  {
   "cell_type": "markdown",
   "id": "8e433854-1e76-4e6d-b059-a58ed0294564",
   "metadata": {},
   "source": [
    "**Student T Distribution**\n",
    " \n",
    " - It allows inference through small samples with an unknown population variance.\n",
    " - It is for huge real-life application.\n",
    " - It looks like a normal distribution but with fat tails. Fatter tails allow for a higher dispersion of variables and there is more uncertainty.\n",
    " - In the same way that the Z statistics is related to the standard normal distribution, the T statistics is related to the student's T distribution.\n",
    " - There are degrees of freedom (d.f.). As the degrees of freedom depend on the sample, the bigger the sample, the closer to the actual numbers.  \n",
    " - For a sample containing more than 50 observations, we use the Z-table instead of the T-table."
   ]
  },
  {
   "cell_type": "markdown",
   "id": "8dc7902b-b01c-4ec4-8a4c-609dfbbe6a24",
   "metadata": {},
   "source": [
    "**Population variance unknown, t-score**\n",
    "\n",
    "We use the t-statistic when the population variance is unknown but use the z-statistic when population variance is known.\n",
    "\n",
    "When we know the population variance, we get a narrower CI. But when we do not know the population variance, there is a higher uncertainty that is reflected by wider boundaries for our interval."
   ]
  },
  {
   "cell_type": "markdown",
   "id": "981b2179-0799-4c86-83bf-c0bdfc75fa36",
   "metadata": {},
   "source": [
    "**Margin of error (ME)**\n",
    "\n",
    "A margin of error is a statistical measurement that accounts for the difference between actual and projected results in a random survey sample.\n",
    " - A smaller ME means that the CI will be narrower. For better prediction, it is better to have the narrowest possible CI.\n",
    " - ME can be controlled. \n",
    " - Smaller statistic (Z or T statistic) and smaller Standard deviation will reduce the ME. A higher level of confidence increases the statistic. A higher statistic means a higher ME. This leads to wider CI. \n",
    " - A lower std deviation means that the data set is more concentrated around the mean. \n",
    " - Higher sample size will decrease the ME. The more observations in the sample, the more certain the prediction.\n",
    " - The more observations in the sample, the higher the chances of getting a good idea about the true mean of the entire population."
   ]
  },
  {
   "cell_type": "markdown",
   "id": "ab3e0211-339d-495a-9231-35ad6e6a0cc1",
   "metadata": {},
   "source": [
    "**Confidence intervals. Two means. Dependent samples**\n",
    "\n",
    "Here, we examine the CI of 2 populations.\n",
    "In some cases, the samples taken from the two populations will be dependent on each other. While in other cases, they will be independent.\n",
    "\n",
    "Dependent samples are easier. They can occur in several situations.\n",
    " - When researching the same subject over time. E.g. weight loss and blood samples - looking at the same persons before and after.\n",
    " - When investigating couples and families. E.g. habits of husband and wife.\n",
    " \n",
    "\n",
    "***Testing Approaches***\n",
    " - CI for dependent samples\n",
    " - Statistical methods like regressions.\n",
    " \n",
    "With independent smaples, we can distinguish between 3 different cases.\n",
    " - When the population variance is know\n",
    " - When the population variance is unknown but assumed to be equal.\n",
    " - When the population variance is unknown but assumed to be different.\n",
    " \n",
    "***Dependent Samples***\n",
    "This statistical test is often used when developing medicine for before and after effects."
   ]
  },
  {
   "cell_type": "markdown",
   "id": "d781b99d-f374-4880-af31-3b09229384c6",
   "metadata": {},
   "source": [
    "### Confidence intervals. Two means. Independent samples \n",
    "\n",
    "(Part 1)\n"
   ]
  },
  {
   "cell_type": "markdown",
   "id": "0fdb06f1-edd6-4b4b-bc56-03085397b091",
   "metadata": {},
   "source": [
    "There are three sub-cases\n",
    " - Known population variances.\n",
    " - Unknown population variances but assumed to be equal.\n",
    " - Unknown population variances but assumed to be different.\n",
    " \n",
    " Considerations:\n",
    " - The populations are normally distributed.\n",
    " - The population variances are known\n",
    " - The sample sizes are different."
   ]
  },
  {
   "cell_type": "markdown",
   "id": "8af45ed9-56bb-46cf-9a70-f4170fe33fa6",
   "metadata": {},
   "source": [
    "## Fundamentals of Combinatorics"
   ]
  },
  {
   "cell_type": "markdown",
   "id": "91dc3a53-20e5-4f11-8da6-84dcec9f3dff",
   "metadata": {},
   "source": [
    "Combinatorics deals with combinations of objects from a specific finite set\n",
    "\n",
    "There are certain restrictions that can be applied to form combinations.\n",
    " - repetition\n",
    " - order\n",
    " - a different criterion\n",
    " \n",
    "The three Integral parts of combinatorics\n",
    " 1. Permutations\n",
    " 2. Variations\n",
    " 3. Combinations\n",
    " Each of these parts will be used to determine the number of favourable outcomes or the number of all elements in a sample space."
   ]
  },
  {
   "cell_type": "markdown",
   "id": "9c8016ab-cf7b-4812-9561-4e2c81d9b3e6",
   "metadata": {},
   "source": [
    "### Computing Permutations\n",
    "\n",
    "Permutations represents the number of possible ways we can arrange a set of elements such as digits, letters, objects or people."
   ]
  },
  {
   "cell_type": "markdown",
   "id": "2a856828-8a31-49bb-9d33-e67650183407",
   "metadata": {},
   "source": [
    "$ x^2 + y^2 = z^2 $"
   ]
  },
  {
   "cell_type": "markdown",
   "id": "c7cc39c1-d2b2-4bf4-8eda-caa049f96a34",
   "metadata": {},
   "source": [
    "$\\hat{Y} = \\hat{beta}_{0} + \\sum \\limits _{j=1} ^ {p} X_{j}\\hat{\\beta}_{j} $"
   ]
  },
  {
   "cell_type": "code",
   "execution_count": null,
   "id": "16361688-c42e-4546-b326-3353eb55b0bf",
   "metadata": {},
   "outputs": [],
   "source": []
  }
 ],
 "metadata": {
  "kernelspec": {
   "display_name": "Python 3 (ipykernel)",
   "language": "python",
   "name": "python3"
  },
  "language_info": {
   "codemirror_mode": {
    "name": "ipython",
    "version": 3
   },
   "file_extension": ".py",
   "mimetype": "text/x-python",
   "name": "python",
   "nbconvert_exporter": "python",
   "pygments_lexer": "ipython3",
   "version": "3.9.7"
  }
 },
 "nbformat": 4,
 "nbformat_minor": 5
}
